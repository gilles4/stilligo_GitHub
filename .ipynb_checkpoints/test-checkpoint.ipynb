{
 "cells": [
  {
   "cell_type": "markdown",
   "id": "b52dc400",
   "metadata": {},
   "source": [
    "code example with \n",
    "https://positionstack.com/documentation"
   ]
  },
  {
   "cell_type": "code",
   "execution_count": 2,
   "id": "49864747",
   "metadata": {
    "scrolled": true
   },
   "outputs": [
    {
     "name": "stdout",
     "output_type": "stream",
     "text": [
      "{\"data\":[{\"latitude\":-22.976478,\"longitude\":-43.187679,\"type\":\"neighbourhood\",\"name\":\"Copacabana\",\"number\":null,\"postal_code\":null,\"street\":null,\"confidence\":1,\"region\":\"Rio De Janeiro\",\"region_code\":\"RJ\",\"county\":\"Rio de Janeiro\",\"locality\":\"Rio de Janeiro\",\"administrative_area\":null,\"neighbourhood\":\"Copacabana\",\"country\":\"Brazil\",\"country_code\":\"BRA\",\"continent\":\"South America\",\"label\":\"Copacabana, Rio de Janeiro, Brazil\"}]}\n"
     ]
    }
   ],
   "source": [
    "# Python 3\n",
    "import http.client, urllib.parse\n",
    "\n",
    "conn = http.client.HTTPConnection('api.positionstack.com')\n",
    "\n",
    "params = urllib.parse.urlencode({\n",
    "    'access_key': '7ee4541b1364e4085140d6199f9188d3',\n",
    "    'query': 'Copacabana',\n",
    "    'region': 'Rio de Janeiro',\n",
    "    'limit': 1,\n",
    "    })\n",
    "\n",
    "conn.request('GET', '/v1/forward?{}'.format(params))\n",
    "\n",
    "res = conn.getresponse()\n",
    "data = res.read()\n",
    "\n",
    "print(data.decode('utf-8'))"
   ]
  },
  {
   "cell_type": "code",
   "execution_count": 4,
   "id": "1a8587f4",
   "metadata": {},
   "outputs": [],
   "source": [
    "!git add ."
   ]
  },
  {
   "cell_type": "code",
   "execution_count": 5,
   "id": "e41f7d18",
   "metadata": {},
   "outputs": [
    {
     "name": "stdout",
     "output_type": "stream",
     "text": [
      "[main 9b0b76a] 1st test of geocoding ap positionstack\r\n",
      " 2 files changed, 98 insertions(+)\r\n",
      " create mode 100644 .ipynb_checkpoints/test-checkpoint.ipynb\r\n",
      " create mode 100644 test.ipynb\r\n"
     ]
    }
   ],
   "source": [
    "!git commit -m '1st test of geocoding ap positionstack'"
   ]
  },
  {
   "cell_type": "code",
   "execution_count": 6,
   "id": "19aa6f27",
   "metadata": {},
   "outputs": [
    {
     "name": "stdout",
     "output_type": "stream",
     "text": [
      "error: src refspec master does not match any\r\n",
      "\u001b[31merror: failed to push some refs to 'git@github.com:gilles4/stilligo_GitHub.git'\r\n",
      "\u001b[m"
     ]
    }
   ],
   "source": [
    "!git push origin master"
   ]
  },
  {
   "cell_type": "code",
   "execution_count": 9,
   "id": "9db78a90",
   "metadata": {},
   "outputs": [
    {
     "name": "stdout",
     "output_type": "stream",
     "text": [
      "On branch main\r\n",
      "Your branch is ahead of 'origin/main' by 1 commit.\r\n",
      "  (use \"git push\" to publish your local commits)\r\n",
      "\r\n",
      "Changes not staged for commit:\r\n",
      "  (use \"git add <file>...\" to update what will be committed)\r\n",
      "  (use \"git restore <file>...\" to discard changes in working directory)\r\n",
      "\t\u001b[31mmodified:   test.ipynb\u001b[m\r\n",
      "\r\n",
      "no changes added to commit (use \"git add\" and/or \"git commit -a\")\r\n"
     ]
    }
   ],
   "source": [
    "!git status"
   ]
  },
  {
   "cell_type": "code",
   "execution_count": null,
   "id": "bffa969d",
   "metadata": {},
   "outputs": [],
   "source": []
  }
 ],
 "metadata": {
  "kernelspec": {
   "display_name": "Python 3 (ipykernel)",
   "language": "python",
   "name": "python3"
  },
  "language_info": {
   "codemirror_mode": {
    "name": "ipython",
    "version": 3
   },
   "file_extension": ".py",
   "mimetype": "text/x-python",
   "name": "python",
   "nbconvert_exporter": "python",
   "pygments_lexer": "ipython3",
   "version": "3.8.12"
  },
  "toc": {
   "base_numbering": 1,
   "nav_menu": {},
   "number_sections": true,
   "sideBar": true,
   "skip_h1_title": false,
   "title_cell": "Table of Contents",
   "title_sidebar": "Contents",
   "toc_cell": false,
   "toc_position": {},
   "toc_section_display": true,
   "toc_window_display": false
  }
 },
 "nbformat": 4,
 "nbformat_minor": 5
}
