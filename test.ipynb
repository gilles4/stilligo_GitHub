{
 "cells": [
  {
   "cell_type": "markdown",
   "id": "c161b173",
   "metadata": {},
   "source": [
    "code example with \n",
    "https://positionstack.com/documentation"
   ]
  },
  {
   "cell_type": "code",
   "execution_count": 2,
   "id": "e3d32f40",
   "metadata": {
    "scrolled": true
   },
   "outputs": [
    {
     "name": "stdout",
     "output_type": "stream",
     "text": [
      "{\"data\":[{\"latitude\":-22.976478,\"longitude\":-43.187679,\"type\":\"neighbourhood\",\"name\":\"Copacabana\",\"number\":null,\"postal_code\":null,\"street\":null,\"confidence\":1,\"region\":\"Rio De Janeiro\",\"region_code\":\"RJ\",\"county\":\"Rio de Janeiro\",\"locality\":\"Rio de Janeiro\",\"administrative_area\":null,\"neighbourhood\":\"Copacabana\",\"country\":\"Brazil\",\"country_code\":\"BRA\",\"continent\":\"South America\",\"label\":\"Copacabana, Rio de Janeiro, Brazil\"}]}\n"
     ]
    }
   ],
   "source": [
    "# Python 3\n",
    "import http.client, urllib.parse\n",
    "\n",
    "conn = http.client.HTTPConnection('api.positionstack.com')\n",
    "\n",
    "params = urllib.parse.urlencode({\n",
    "    'access_key': '7ee4541b1364e4085140d6199f9188d3',\n",
    "    'query': 'Copacabana',\n",
    "    'region': 'Rio de Janeiro',\n",
    "    'limit': 1,\n",
    "    })\n",
    "\n",
    "conn.request('GET', '/v1/forward?{}'.format(params))\n",
    "\n",
    "res = conn.getresponse()\n",
    "data = res.read()\n",
    "\n",
    "print(data.decode('utf-8'))"
   ]
  },
  {
   "cell_type": "code",
   "execution_count": 4,
   "id": "909ecfdd",
   "metadata": {},
   "outputs": [],
   "source": [
    "!git add ."
   ]
  },
  {
   "cell_type": "code",
   "execution_count": 5,
   "id": "b922dae8",
   "metadata": {},
   "outputs": [
    {
     "name": "stdout",
     "output_type": "stream",
     "text": [
      "[main 9b0b76a] 1st test of geocoding ap positionstack\r\n",
      " 2 files changed, 98 insertions(+)\r\n",
      " create mode 100644 .ipynb_checkpoints/test-checkpoint.ipynb\r\n",
      " create mode 100644 test.ipynb\r\n"
     ]
    }
   ],
   "source": [
    "!git commit -m '1st test of geocoding ap positionstack'"
   ]
  },
  {
   "cell_type": "code",
   "execution_count": 6,
   "id": "ec7f93eb",
   "metadata": {},
   "outputs": [
    {
     "name": "stdout",
     "output_type": "stream",
     "text": [
      "error: src refspec master does not match any\r\n",
      "\u001b[31merror: failed to push some refs to 'git@github.com:gilles4/stilligo_GitHub.git'\r\n",
      "\u001b[m"
     ]
    }
   ],
   "source": [
    "!git push origin master"
   ]
  },
  {
   "cell_type": "code",
   "execution_count": 9,
   "id": "680cd0c4",
   "metadata": {},
   "outputs": [
    {
     "name": "stdout",
     "output_type": "stream",
     "text": [
      "On branch main\r\n",
      "Your branch is ahead of 'origin/main' by 1 commit.\r\n",
      "  (use \"git push\" to publish your local commits)\r\n",
      "\r\n",
      "Changes not staged for commit:\r\n",
      "  (use \"git add <file>...\" to update what will be committed)\r\n",
      "  (use \"git restore <file>...\" to discard changes in working directory)\r\n",
      "\t\u001b[31mmodified:   test.ipynb\u001b[m\r\n",
      "\r\n",
      "no changes added to commit (use \"git add\" and/or \"git commit -a\")\r\n"
     ]
    }
   ],
   "source": [
    "!git status"
   ]
  },
  {
   "cell_type": "markdown",
   "id": "6ae2ee37",
   "metadata": {},
   "source": [
    "reverse coding "
   ]
  },
  {
   "cell_type": "code",
   "execution_count": 10,
   "id": "956c42ec",
   "metadata": {},
   "outputs": [
    {
     "name": "stdout",
     "output_type": "stream",
     "text": [
      "{\"data\":[{\"latitude\":51.507822,\"longitude\":-0.076702,\"type\":\"venue\",\"distance\":0,\"name\":\"Tower of London\",\"number\":null,\"postal_code\":\"EC3N 4AB\",\"street\":\"Tower Hill\",\"confidence\":1,\"region\":\"Greater London\",\"region_code\":null,\"county\":null,\"locality\":\"London\",\"administrative_area\":null,\"neighbourhood\":\"Tower Hill\",\"country\":\"United Kingdom\",\"country_code\":\"GBR\",\"continent\":\"Europe\",\"label\":\"Tower of London, London, England, United Kingdom\"},{\"latitude\":51.507864,\"longitude\":-0.076551,\"type\":\"venue\",\"distance\":0.011,\"name\":\"The Ditch\",\"number\":null,\"postal_code\":null,\"street\":null,\"confidence\":0.8,\"region\":\"Greater London\",\"region_code\":null,\"county\":null,\"locality\":\"London\",\"administrative_area\":null,\"neighbourhood\":\"Tower Hill\",\"country\":\"United Kingdom\",\"country_code\":\"GBR\",\"continent\":\"Europe\",\"label\":\"The Ditch, London, England, United Kingdom\"},{\"latitude\":51.507567,\"longitude\":-0.076657,\"type\":\"venue\",\"distance\":0.029,\"name\":\"Wakefield Tower\",\"number\":null,\"postal_code\":null,\"street\":null,\"confidence\":0.8,\"region\":\"Greater London\",\"region_code\":null,\"county\":null,\"locality\":\"London\",\"administrative_area\":null,\"neighbourhood\":\"Tower Hill\",\"country\":\"United Kingdom\",\"country_code\":\"GBR\",\"continent\":\"Europe\",\"label\":\"Wakefield Tower, London, England, United Kingdom\"},{\"latitude\":51.508047,\"longitude\":-0.077018,\"type\":\"venue\",\"distance\":0.033,\"name\":\"Tower Green\",\"number\":null,\"postal_code\":null,\"street\":null,\"confidence\":0.8,\"region\":\"Greater London\",\"region_code\":null,\"county\":null,\"locality\":\"London\",\"administrative_area\":null,\"neighbourhood\":\"Tower Hill\",\"country\":\"United Kingdom\",\"country_code\":\"GBR\",\"continent\":\"Europe\",\"label\":\"Tower Green, London, England, United Kingdom\"},{\"latitude\":51.508032,\"longitude\":-0.076305,\"type\":\"venue\",\"distance\":0.036,\"name\":\"White Tower\",\"number\":null,\"postal_code\":null,\"street\":null,\"confidence\":0.8,\"region\":\"Greater London\",\"region_code\":null,\"county\":null,\"locality\":\"London\",\"administrative_area\":null,\"neighbourhood\":\"Tower Hill\",\"country\":\"United Kingdom\",\"country_code\":\"GBR\",\"continent\":\"Europe\",\"label\":\"White Tower, London, England, United Kingdom\"},{\"latitude\":51.507383,\"longitude\":-0.076957,\"type\":\"venue\",\"distance\":0.052,\"name\":\"Traitor\\u0027s Gate\",\"number\":null,\"postal_code\":null,\"street\":null,\"confidence\":0.8,\"region\":\"Greater London\",\"region_code\":null,\"county\":null,\"locality\":\"London\",\"administrative_area\":null,\"neighbourhood\":\"Tower Hill\",\"country\":\"United Kingdom\",\"country_code\":\"GBR\",\"continent\":\"Europe\",\"label\":\"Traitor\\u0027s Gate, London, England, United Kingdom\"},{\"latitude\":51.508295,\"longitude\":-0.076893,\"type\":\"venue\",\"distance\":0.054,\"name\":\"Scaffold Site\",\"number\":null,\"postal_code\":null,\"street\":null,\"confidence\":0.8,\"region\":\"Greater London\",\"region_code\":null,\"county\":null,\"locality\":\"London\",\"administrative_area\":null,\"neighbourhood\":\"Tower Hill\",\"country\":\"United Kingdom\",\"country_code\":\"GBR\",\"continent\":\"Europe\",\"label\":\"Scaffold Site, London, England, United Kingdom\"},{\"latitude\":51.507794,\"longitude\":-0.077559,\"type\":\"venue\",\"distance\":0.059,\"name\":\"Bell Tower\",\"number\":null,\"postal_code\":null,\"street\":null,\"confidence\":0.8,\"region\":\"Greater London\",\"region_code\":null,\"county\":null,\"locality\":\"London\",\"administrative_area\":null,\"neighbourhood\":\"Tower Hill\",\"country\":\"United Kingdom\",\"country_code\":\"GBR\",\"continent\":\"Europe\",\"label\":\"Bell Tower, London, England, United Kingdom\"},{\"latitude\":51.507476,\"longitude\":-0.075989,\"type\":\"venue\",\"distance\":0.063,\"name\":\"Ravens\",\"number\":null,\"postal_code\":null,\"street\":null,\"confidence\":0.8,\"region\":\"Greater London\",\"region_code\":null,\"county\":null,\"locality\":\"London\",\"administrative_area\":null,\"neighbourhood\":\"Tower Hill\",\"country\":\"United Kingdom\",\"country_code\":\"GBR\",\"continent\":\"Europe\",\"label\":\"Ravens, London, England, United Kingdom\"},{\"latitude\":51.50743,\"longitude\":-0.076014,\"type\":\"venue\",\"distance\":0.065,\"name\":\"Raven\\u0027s Cafe\",\"number\":null,\"postal_code\":\"EC3N 4AB\",\"street\":\"Tower Hill\",\"confidence\":0.8,\"region\":\"Greater London\",\"region_code\":null,\"county\":null,\"locality\":\"London\",\"administrative_area\":null,\"neighbourhood\":\"Tower Hill\",\"country\":\"United Kingdom\",\"country_code\":\"GBR\",\"continent\":\"Europe\",\"label\":\"Raven\\u0027s Cafe, London, England, United Kingdom\"}]}\n"
     ]
    }
   ],
   "source": [
    "# Python 3\n",
    "import http.client, urllib.parse\n",
    "\n",
    "conn = http.client.HTTPConnection('api.positionstack.com')\n",
    "\n",
    "params = urllib.parse.urlencode({\n",
    "    'access_key': '7ee4541b1364e4085140d6199f9188d3',\n",
    "    'query': '51.507822,-0.076702',\n",
    "    })\n",
    "\n",
    "conn.request('GET', '/v1/reverse?{}'.format(params))\n",
    "\n",
    "res = conn.getresponse()\n",
    "data = res.read()\n",
    "\n",
    "print(data.decode('utf-8'))"
   ]
  },
  {
   "cell_type": "code",
   "execution_count": 11,
   "id": "fc5760d4",
   "metadata": {},
   "outputs": [
    {
     "name": "stdout",
     "output_type": "stream",
     "text": [
      "{\"message\":\"Invalid API key. Go to https:\\/\\/docs.rapidapi.com\\/docs\\/keys for more info.\"}\n"
     ]
    }
   ],
   "source": [
    "import requests\n",
    "\n",
    "url = \"https://tourism-portal-development.p.rapidapi.com/%7BPATH%7D\"\n",
    "\n",
    "response = requests.request(\"GET\", url)\n",
    "\n",
    "print(response.text)"
   ]
  },
  {
   "cell_type": "code",
   "execution_count": 12,
   "id": "6d973bd5",
   "metadata": {},
   "outputs": [],
   "source": [
    "!git add ."
   ]
  },
  {
   "cell_type": "code",
   "execution_count": 13,
   "id": "d35586e0",
   "metadata": {},
   "outputs": [
    {
     "name": "stdout",
     "output_type": "stream",
     "text": [
      "[main 90ccf62] test of tourism portal request:not working yet\r\n",
      " 2 files changed, 312 insertions(+), 5 deletions(-)\r\n"
     ]
    }
   ],
   "source": [
    "!git commit -m 'test of tourism portal request:not working yet'"
   ]
  },
  {
   "cell_type": "code",
   "execution_count": 14,
   "id": "a67e77fa",
   "metadata": {},
   "outputs": [
    {
     "name": "stdout",
     "output_type": "stream",
     "text": [
      "error: src refspec master does not match any\r\n",
      "\u001b[31merror: failed to push some refs to 'git@github.com:gilles4/stilligo_GitHub.git'\r\n",
      "\u001b[m"
     ]
    }
   ],
   "source": [
    "! git push origin master"
   ]
  },
  {
   "cell_type": "code",
   "execution_count": null,
   "id": "4efa3aac",
   "metadata": {},
   "outputs": [],
   "source": [
    "!git remote add origin "
   ]
  }
 ],
 "metadata": {
  "kernelspec": {
   "display_name": "Python 3 (ipykernel)",
   "language": "python",
   "name": "python3"
  },
  "language_info": {
   "codemirror_mode": {
    "name": "ipython",
    "version": 3
   },
   "file_extension": ".py",
   "mimetype": "text/x-python",
   "name": "python",
   "nbconvert_exporter": "python",
   "pygments_lexer": "ipython3",
   "version": "3.8.12"
  },
  "toc": {
   "base_numbering": 1,
   "nav_menu": {},
   "number_sections": true,
   "sideBar": true,
   "skip_h1_title": false,
   "title_cell": "Table of Contents",
   "title_sidebar": "Contents",
   "toc_cell": false,
   "toc_position": {},
   "toc_section_display": true,
   "toc_window_display": false
  }
 },
 "nbformat": 4,
 "nbformat_minor": 5
}
