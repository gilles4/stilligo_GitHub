{
 "cells": [
  {
   "cell_type": "markdown",
   "id": "25df83c6",
   "metadata": {},
   "source": [
    "code example with \n",
    "https://positionstack.com/documentation"
   ]
  },
  {
   "cell_type": "code",
   "execution_count": 2,
   "id": "a6875bed",
   "metadata": {
    "scrolled": true
   },
   "outputs": [
    {
     "name": "stdout",
     "output_type": "stream",
     "text": [
      "{\"data\":[{\"latitude\":-22.976478,\"longitude\":-43.187679,\"type\":\"neighbourhood\",\"name\":\"Copacabana\",\"number\":null,\"postal_code\":null,\"street\":null,\"confidence\":1,\"region\":\"Rio De Janeiro\",\"region_code\":\"RJ\",\"county\":\"Rio de Janeiro\",\"locality\":\"Rio de Janeiro\",\"administrative_area\":null,\"neighbourhood\":\"Copacabana\",\"country\":\"Brazil\",\"country_code\":\"BRA\",\"continent\":\"South America\",\"label\":\"Copacabana, Rio de Janeiro, Brazil\"}]}\n"
     ]
    }
   ],
   "source": [
    "# Python 3\n",
    "import http.client, urllib.parse\n",
    "\n",
    "conn = http.client.HTTPConnection('api.positionstack.com')\n",
    "\n",
    "params = urllib.parse.urlencode({\n",
    "    'access_key': '7ee4541b1364e4085140d6199f9188d3',\n",
    "    'query': 'Copacabana',\n",
    "    'region': 'Rio de Janeiro',\n",
    "    'limit': 1,\n",
    "    })\n",
    "\n",
    "conn.request('GET', '/v1/forward?{}'.format(params))\n",
    "\n",
    "res = conn.getresponse()\n",
    "data = res.read()\n",
    "\n",
    "print(data.decode('utf-8'))"
   ]
  },
  {
   "cell_type": "code",
   "execution_count": null,
   "id": "56c4215c",
   "metadata": {},
   "outputs": [],
   "source": []
  }
 ],
 "metadata": {
  "kernelspec": {
   "display_name": "Python 3 (ipykernel)",
   "language": "python",
   "name": "python3"
  },
  "language_info": {
   "codemirror_mode": {
    "name": "ipython",
    "version": 3
   },
   "file_extension": ".py",
   "mimetype": "text/x-python",
   "name": "python",
   "nbconvert_exporter": "python",
   "pygments_lexer": "ipython3",
   "version": "3.8.12"
  },
  "toc": {
   "base_numbering": 1,
   "nav_menu": {},
   "number_sections": true,
   "sideBar": true,
   "skip_h1_title": false,
   "title_cell": "Table of Contents",
   "title_sidebar": "Contents",
   "toc_cell": false,
   "toc_position": {},
   "toc_section_display": true,
   "toc_window_display": false
  }
 },
 "nbformat": 4,
 "nbformat_minor": 5
}
